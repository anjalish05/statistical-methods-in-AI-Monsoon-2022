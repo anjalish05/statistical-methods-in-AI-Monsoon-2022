{
 "cells": [
  {
   "cell_type": "markdown",
   "metadata": {},
   "source": [
    "# Assignment 2 - Question 1\n",
    "The objective of this assignment is to get you familiarize with  the  problem  of  `Clustering`.\n",
    "\n",
    "## Instructions\n",
    "- Write your code and analysis in the indicated cells.\n",
    "- Ensure that this notebook runs without errors when the cells are run in sequence.\n",
    "- Do not attempt to change the contents of other cells.\n",
    "- No inbuilt functions to be used until specified\n",
    "\n",
    "## Submission\n",
    "- Ensure that this notebook runs without errors when the cells are run in sequence.\n",
    "- Rename the notebook to `<roll_number>_Assignment2_Q1.ipynb`."
   ]
  },
  {
   "cell_type": "code",
   "execution_count": 101,
   "metadata": {
    "colab": {
     "base_uri": "https://localhost:8080/"
    },
    "id": "TdEXGGO0AqkW",
    "outputId": "119fb7e5-3656-4bdb-fcfa-2e33afe2d0d3"
   },
   "outputs": [],
   "source": [
    "import nltk\n",
    "import re\n",
    "import numpy as np\n",
    "import sklearn\n",
    "import math\n",
    "import seaborn as sns\n",
    "from tqdm import tqdm\n",
    "from nltk.tokenize import RegexpTokenizer\n",
    "from nltk.tokenize import sent_tokenize\n",
    "from sklearn.feature_extraction.text import TfidfVectorizer"
   ]
  },
  {
   "cell_type": "code",
   "execution_count": 2,
   "metadata": {
    "id": "5N2FkdFMxixH"
   },
   "outputs": [],
   "source": [
    "# %pip install sentence-transformers\n",
    "from sentence_transformers import SentenceTransformer"
   ]
  },
  {
   "cell_type": "markdown",
   "metadata": {
    "id": "s-1irtUhxlp2"
   },
   "source": [
    "# Dataset\n",
    "\n",
    "\n",
    "\n",
    "*   Try to explore the dataset and first understand\n",
    "*   Steps while processing the dataset:\n",
    "\n",
    "1.   Load the dataset\n",
    ">> The 20 newsgroups dataset comprises around 18000 newsgroups posts on 20 topics split in two subsets: train and test. Here, we only use train part of the dataset as we don't need any training.\n",
    "\n",
    "2.   pre-processing of the dataset\n",
    ">>   A set of basic pre-processing steps are given below, if you can do it better, it is appreciable\n",
    "3.   Trying to obtain the embeddings for the text. \n",
    ">> Here, we used bert model to obtain the embeddings, if you want to use anyother sentence/word embeddings (ELMo,universal sentence encoder, or other bert models) you can use it, but not mandatorily change it)\n",
    "\n",
    "PS: You need not completely understand how bert works. If you are interested, few links will be mentioned below."
   ]
  },
  {
   "cell_type": "code",
   "execution_count": 3,
   "metadata": {
    "id": "oqkn6iSNmEo1"
   },
   "outputs": [],
   "source": [
    "# loading of dataset\n",
    "\n",
    "from sklearn.datasets import fetch_20newsgroups\n",
    "newsgroups_train = fetch_20newsgroups(subset='train')\n",
    "\n",
    "# print(list(newsgroups_train))\n",
    "#['data', 'filenames', 'target_names', 'target', 'DESCR']\n",
    "# all we require for our task is data and target. \n",
    "#target_names describe the different groups present (which are 20) all over the dataset\n",
    "\n",
    "# print(list(newsgroups_train.target_names))"
   ]
  },
  {
   "cell_type": "code",
   "execution_count": 4,
   "metadata": {
    "id": "NNRbIfsX01hD"
   },
   "outputs": [],
   "source": [
    "bert_model = SentenceTransformer('bert-base-nli-mean-tokens')"
   ]
  },
  {
   "cell_type": "code",
   "execution_count": 11,
   "metadata": {
    "id": "kp8UL8lP5U2k"
   },
   "outputs": [],
   "source": [
    "#preprocessing of sentences and the article\n",
    "\n",
    "def remove_punct(text):\n",
    "  text = re.sub('[^a-zA-Z0-9 ]+','', text)\n",
    "  return text\n",
    "\n",
    "def remove_urls(text):\n",
    "  url_pattern = re.compile(r'https?://\\S+|www\\.\\S+')\n",
    "  return url_pattern.sub(r'', text)\n",
    "\n",
    "def remove_tag(text):   \n",
    "  text=' '.join(text)\n",
    "  html_pattern = re.compile('<.*?>')\n",
    "  return html_pattern.sub(r'', text)\n",
    "\n",
    "def pre_process_sentence(sentence):\n",
    "  sentence = sentence.lower()\n",
    "  sentence = remove_punct(remove_urls(sentence))\n",
    "  return sentence\n",
    "\n",
    "def pre_process_article(article):\n",
    "  article = str(article).replace(\"\\n\\n|\\n\", '')\n",
    "  article = sent_tokenize(article)\n",
    "  sentences = []\n",
    "  for each in article:\n",
    "    if len(each.split(\":\")) > 1:\n",
    "      continue\n",
    "    sentences.append(pre_process_sentence(each))\n",
    "  return sentences\n",
    "\n"
   ]
  },
  {
   "cell_type": "code",
   "execution_count": 26,
   "metadata": {
    "id": "72IcGYs980zK"
   },
   "outputs": [
    {
     "name": "stderr",
     "output_type": "stream",
     "text": [
      "100%|██████████| 11314/11314 [06:33<00:00, 28.77it/s]\n"
     ]
    }
   ],
   "source": [
    "\n",
    "def get_review_embedding(article):\n",
    "  sentences = pre_process_article(article)\n",
    "  sentence_embeddings = bert_model.encode(sentences)\n",
    "\n",
    "  review_embedding = np.zeros(768)\n",
    "  for each in sentence_embeddings:\n",
    "    review_embedding = np.add(np.array(each), review_embedding)\n",
    "\n",
    "  return review_embedding\n",
    "\n",
    "embeddings = []\n",
    "for i in tqdm(range(len(newsgroups_train['data']))):\n",
    "  embeddings.append(get_review_embedding(newsgroups_train['data'][i]))\n",
    "\n",
    "labels = list(newsgroups_train.target)\n"
   ]
  },
  {
   "cell_type": "code",
   "execution_count": 29,
   "metadata": {},
   "outputs": [
    {
     "data": {
      "text/plain": [
       "(11314, 768)"
      ]
     },
     "execution_count": 29,
     "metadata": {},
     "output_type": "execute_result"
    }
   ],
   "source": [
    "import pickle as pkl\n",
    "embeddings = np.array(embeddings)\n",
    "with open('embeddings.pkl', 'wb') as f:\n",
    "    pkl.dump(embeddings, f)\n",
    "embeddings.shape"
   ]
  },
  {
   "cell_type": "code",
   "execution_count": 67,
   "metadata": {
    "id": "pbkl4Ux0JPi2"
   },
   "outputs": [],
   "source": [
    "X, y = embeddings, labels\n",
    "\n",
    "id_map = {}\n",
    "for i, label in enumerate(list(newsgroups_train.target_names)):\n",
    "    id_map[label] = i"
   ]
  },
  {
   "cell_type": "code",
   "execution_count": 84,
   "metadata": {
    "id": "JkaKG4WW9eXx"
   },
   "outputs": [
    {
     "data": {
      "text/plain": [
       "Text(0, 0.5, 'Y')"
      ]
     },
     "execution_count": 84,
     "metadata": {},
     "output_type": "execute_result"
    },
    {
     "data": {
      "image/png": "[encoded data removed]",
      "text/plain": [
       "<Figure size 432x288 with 1 Axes>"
      ]
     },
     "metadata": {
      "needs_background": "light"
     },
     "output_type": "display_data"
    }
   ],
   "source": [
    "import sklearn\n",
    "from sklearn.decomposition import PCA\n",
    "import matplotlib.pyplot as plt\n",
    "\n",
    "pca = PCA(n_components=2)\n",
    "X_pca = np.array(pca.fit_transform(X))\n",
    "cmap = np.array(sns.color_palette(n_colors=len(set(labels))))\n",
    "\n",
    "plt.scatter(X_pca[:, 0], X_pca[:, 1], c=cmap[y])\n",
    "plt.title('Data Visualization in 2-D')\n",
    "plt.xlabel('X')\n",
    "plt.ylabel('Y')"
   ]
  },
  {
   "cell_type": "markdown",
   "metadata": {
    "id": "uZH6gO7HA5jk"
   },
   "source": [
    "# K_Means Algorithm\n"
   ]
  },
  {
   "cell_type": "code",
   "execution_count": 115,
   "metadata": {
    "colab": {
     "base_uri": "https://localhost:8080/"
    },
    "id": "T9TBSHWfgWxU",
    "outputId": "8d4ab613-7513-4732-bf06-8b7e7cd8a2c9"
   },
   "outputs": [
    {
     "data": {
      "text/plain": [
       "array([0, 0, 0, ..., 0, 0, 0])"
      ]
     },
     "execution_count": 115,
     "metadata": {},
     "output_type": "execute_result"
    }
   ],
   "source": [
    "from sklearn.cluster import KMeans\n",
    "\n",
    "pca = PCA(n_components=2)\n",
    "X_pca = np.array(pca.fit_transform(X))\n",
    "\n",
    "kmeans = KMeans(n_clusters=2, random_state=0).fit(X_pca)\n",
    "kmeans.labels_"
   ]
  },
  {
   "cell_type": "code",
   "execution_count": 118,
   "metadata": {
    "id": "61GQRof2wkKd"
   },
   "outputs": [
    {
     "data": {
      "text/plain": [
       "Text(0, 0.5, 'Y')"
      ]
     },
     "execution_count": 118,
     "metadata": {},
     "output_type": "execute_result"
    },
    {
     "data": {
      "image/png": "[encoded data removed]",
      "text/plain": [
       "<Figure size 432x288 with 1 Axes>"
      ]
     },
     "metadata": {
      "needs_background": "light"
     },
     "output_type": "display_data"
    }
   ],
   "source": [
    "plt.scatter(X_pca[:, 0], X_pca[:, 1], c=kmeans.labels_)\n",
    "plt.title('K-Means Clustering Visualization, n_clusters=2')\n",
    "plt.xlabel('X')\n",
    "plt.ylabel('Y')"
   ]
  },
  {
   "cell_type": "markdown",
   "metadata": {
    "id": "m2t9Cz6yuJmO"
   },
   "source": [
    "# Elbow method\n",
    "\n",
    "\n",
    "\n",
    "*   Try to understand how elbow method works\n",
    "*   Plot the graph between average distance and the number of clusters\n",
    "*   Use elbow method to find the optimal number of clusters, \n",
    "\n",
    "\n",
    "\n",
    "\n",
    "\n"
   ]
  },
  {
   "cell_type": "code",
   "execution_count": 104,
   "metadata": {
    "id": "JW_stdJuub4s"
   },
   "outputs": [
    {
     "name": "stderr",
     "output_type": "stream",
     "text": [
      "100%|██████████| 23/23 [01:19<00:00,  3.44s/it]\n"
     ]
    },
    {
     "data": {
      "image/png": "[encoded data removed]",
      "text/plain": [
       "<Figure size 432x288 with 1 Axes>"
      ]
     },
     "metadata": {
      "needs_background": "light"
     },
     "output_type": "display_data"
    }
   ],
   "source": [
    "def elbow_method():\n",
    "    K = range(2, 25, 1)\n",
    "    mean_wcss_list = []\n",
    "    for i in tqdm(range(len(K))):\n",
    "        kmeans = KMeans(n_clusters=K[i], random_state=0).fit(X)\n",
    "        wcss = kmeans.inertia_\n",
    "        mean_wcss_list.append(wcss/K[i])\n",
    "\n",
    "    plt.plot(K, mean_wcss_list, marker='o')\n",
    "    plt.xlabel('K')\n",
    "    plt.ylabel('Average Distance')\n",
    "    Xint = range(min(K), math.ceil(max(K))+1)\n",
    "    plt.xticks(Xint)\n",
    "    plt.show()\n",
    "\n",
    "elbow_method()"
   ]
  },
  {
   "cell_type": "markdown",
   "metadata": {},
   "source": [
    "In the above plot we can see that a certain elbow shape occurs around **12** (although the curve is quite smooth), hence *using the elbow method* we can say that the number of preferred clusters for the given data (`n_clusters`) could be 12."
   ]
  },
  {
   "cell_type": "markdown",
   "metadata": {
    "id": "2jHeGh-xuuDc"
   },
   "source": [
    "# Silhouette Method\n",
    "\n",
    "\n",
    "*   Compute silhouette score varying the K number of clusters\n",
    "\n",
    "*   Plot the graph between silhoutte score and number of clusters \n",
    "\n",
    "*   Find the optimal number of clusters using silhouette method\n",
    "\n",
    "\n",
    "\n",
    "\n",
    "> Report the optimal number of clusters you obtained from above two methods (elbow and silhouette)\n",
    "\n",
    "\n"
   ]
  },
  {
   "cell_type": "code",
   "execution_count": 105,
   "metadata": {
    "id": "lKRJ4IBMuwfd"
   },
   "outputs": [
    {
     "name": "stderr",
     "output_type": "stream",
     "text": [
      "100%|██████████| 23/23 [02:04<00:00,  5.42s/it]\n"
     ]
    },
    {
     "data": {
      "image/png": "[encoded data removed]",
      "text/plain": [
       "<Figure size 432x288 with 1 Axes>"
      ]
     },
     "metadata": {
      "needs_background": "light"
     },
     "output_type": "display_data"
    }
   ],
   "source": [
    "from sklearn.metrics import silhouette_score\n",
    "def silhouette_scoring():\n",
    "    K = range(2, 25, 1)\n",
    "    score_list = []\n",
    "    for i in tqdm(range(len(K))):\n",
    "        kmeans = KMeans(n_clusters=K[i], random_state=0).fit(X)\n",
    "        score_list.append(silhouette_score(X, kmeans.labels_, metric='euclidean'))\n",
    "\n",
    "    plt.plot(K, score_list, marker='o')\n",
    "    plt.xlabel('K')\n",
    "    plt.ylabel('Silhouette Score')\n",
    "    Xint = range(min(K), math.ceil(max(K)) + 1)\n",
    "    plt.xticks(Xint)\n",
    "    plt.show()\n",
    "  \n",
    "silhouette_scoring()"
   ]
  },
  {
   "cell_type": "markdown",
   "metadata": {},
   "source": [
    "From the above plot of K vs Silhouette score, we can see that the highest silhouette score occurs for **k=2**. This implies that the clustering algorithm creates the most distinguishable clustering.  \n",
    "\n",
    "**The most optimal k:**\n",
    "- Elbow Method: $12$\n",
    "- Silhouette Score: $2$"
   ]
  },
  {
   "cell_type": "markdown",
   "metadata": {
    "id": "JEvLJxmnuCof"
   },
   "source": [
    "# Agglomerative clustering"
   ]
  },
  {
   "cell_type": "code",
   "execution_count": 120,
   "metadata": {
    "colab": {
     "base_uri": "https://localhost:8080/"
    },
    "id": "nzssThP1g_NN",
    "outputId": "27d005d2-7405-4a81-a644-f35bdd3ef4f1"
   },
   "outputs": [],
   "source": [
    "from sklearn.cluster import AgglomerativeClustering\n",
    "\n",
    "def _AgglomerativeClustering(X):\n",
    "  \n",
    "  clustering = AgglomerativeClustering().fit(X)\n",
    "  return clustering.labels_, clustering"
   ]
  },
  {
   "cell_type": "code",
   "execution_count": 121,
   "metadata": {
    "id": "whf5OLe2wf6o"
   },
   "outputs": [
    {
     "data": {
      "text/plain": [
       "Text(0, 0.5, 'Y')"
      ]
     },
     "execution_count": 121,
     "metadata": {},
     "output_type": "execute_result"
    },
    {
     "data": {
      "image/png": "[encoded data removed]",
      "text/plain": [
       "<Figure size 432x288 with 1 Axes>"
      ]
     },
     "metadata": {
      "needs_background": "light"
     },
     "output_type": "display_data"
    }
   ],
   "source": [
    "pca = PCA(n_components=2)\n",
    "X_pca = np.array(pca.fit_transform(X))\n",
    "labels, model = _AgglomerativeClustering(X_pca)\n",
    "plt.scatter(X_pca[:, 0], X_pca[:, 1], c=labels)\n",
    "plt.title('Agglomerative Clustering Visualization, n_clusters=2')\n",
    "plt.xlabel('X')\n",
    "plt.ylabel('Y')"
   ]
  },
  {
   "cell_type": "markdown",
   "metadata": {
    "id": "ZdNC7XxxwuJW"
   },
   "source": [
    "# Dendogram\n",
    "\n",
    "\n",
    "*   Try to understand the difference between agglomerative clustering and divisive clustering\n",
    "*   Plot dendograms for both kinds of clustering\n",
    "*   Find the optimal number of clusters with the help of Dendogram\n",
    "\n"
   ]
  },
  {
   "cell_type": "markdown",
   "metadata": {},
   "source": [
    "Agglomerative and Divisive are methods to do heirarchial clustering. They are briefly explained below:\n",
    "\n",
    "- Agglomerative clustering - It uses a bottom-up approach, wherein all the data points are their own clusters, and the clusters are merged up as we move up in a heirarchial fashion, till all points get combined to a single cluster.\n",
    "- Divisive clustering - It uses a top-down approach, wherein all the data points initally belong to a single cluster, from where we split the cluster into smaller and smaller cluster to create the hierarchy, till all points are their own clusters."
   ]
  },
  {
   "cell_type": "code",
   "execution_count": 126,
   "metadata": {
    "id": "1NWavQn0hW3i"
   },
   "outputs": [],
   "source": [
    "from scipy.cluster.hierarchy import dendrogram\n",
    "\n",
    "def plot_dendogram(model, **kwargs):\n",
    "    counts = np.zeros(model.children_.shape[0])\n",
    "    n_samples = len(model.labels_)\n",
    "    for i, merge in enumerate(model.children_):\n",
    "        current_count = 0\n",
    "        for child_idx in merge:\n",
    "            if child_idx < n_samples:\n",
    "                current_count += 1\n",
    "            else:\n",
    "                current_count += counts[child_idx - n_samples]\n",
    "        counts[i] = current_count\n",
    "\n",
    "    linkage_matrix = np.column_stack(\n",
    "        [model.children_, model.distances_, counts]\n",
    "    ).astype(float)\n",
    "\n",
    "    dendrogram(linkage_matrix, **kwargs)"
   ]
  },
  {
   "cell_type": "code",
   "execution_count": 132,
   "metadata": {},
   "outputs": [
    {
     "data": {
      "text/plain": [
       "Text(0.5, 0, 'Number of points in node (or index of point if no parenthesis).')"
      ]
     },
     "execution_count": 132,
     "metadata": {},
     "output_type": "execute_result"
    },
    {
     "data": {
      "image/png": "[encoded data removed]",
      "text/plain": [
       "<Figure size 800x640 with 1 Axes>"
      ]
     },
     "metadata": {
      "needs_background": "light"
     },
     "output_type": "display_data"
    }
   ],
   "source": [
    "from matplotlib.pyplot import figure\n",
    "figure(figsize=(10, 8), dpi=80)\n",
    "\n",
    "model = AgglomerativeClustering(distance_threshold=0, n_clusters=None).fit(X_pca)\n",
    "plot_dendogram(model, truncate_mode=\"level\", p=6)\n",
    "plt.xlabel(\"Number of points in node (or index of point if no parenthesis).\")"
   ]
  },
  {
   "cell_type": "markdown",
   "metadata": {},
   "source": [
    "The optimal number of clusters according to the dendogram would be **2**, since we would get the most separating cut for 2 clusters."
   ]
  },
  {
   "cell_type": "markdown",
   "metadata": {
    "id": "B3On7lpA11eB"
   },
   "source": [
    "# useful links to understand BERT\n",
    "\n",
    "*  https://towardsdatascience.com/bert-explained-state-of-the-art-language-model-for-nlp-f8b21a9b6270#:~:text=How%20BERT%20works,%2Dwords)%20in%20a%20text.&text=As%20opposed%20to%20directional%20models,sequence%20of%20words%20at%20once.\n",
    "\n",
    "\n"
   ]
  }
 ],
 "metadata": {
  "colab": {
   "name": "Q_Clustering.ipynb",
   "provenance": []
  },
  "kernelspec": {
   "display_name": "Python 3",
   "language": "python",
   "name": "python3"
  },
  "language_info": {
   "codemirror_mode": {
    "name": "ipython",
    "version": 3
   },
   "file_extension": ".py",
   "mimetype": "text/x-python",
   "name": "python",
   "nbconvert_exporter": "python",
   "pygments_lexer": "ipython3",
   "version": "3.8.8"
  }
 },
 "nbformat": 4,
 "nbformat_minor": 4
}
