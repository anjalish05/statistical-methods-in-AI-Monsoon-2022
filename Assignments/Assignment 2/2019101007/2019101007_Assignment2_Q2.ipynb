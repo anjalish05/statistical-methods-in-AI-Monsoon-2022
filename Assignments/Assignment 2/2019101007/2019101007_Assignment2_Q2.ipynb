{
 "cells": [
  {
   "cell_type": "markdown",
   "id": "improving-pepper",
   "metadata": {},
   "source": [
    "# Assignment 2 - Question 2\n",
    "The objective of this assignment is to get you familiarize with  the  problem  of  `Linear Regression`.\n",
    "\n",
    "## Instructions\n",
    "- Write your code and analysis in the indicated cells.\n",
    "- Ensure that this notebook runs without errors when the cells are run in sequence.\n",
    "- Do not attempt to change the contents of other cells.\n",
    "- No inbuilt functions to be used until specified\n",
    "\n",
    "## Submission\n",
    "- Ensure that this notebook runs without errors when the cells are run in sequence.\n",
    "- Rename the notebook to `<roll_number>_Assignment2_Q2.ipynb`."
   ]
  },
  {
   "cell_type": "markdown",
   "id": "final-transaction",
   "metadata": {},
   "source": [
    "## 2.0 Background about the dataset\n",
    "\n",
    "TLDR: You have 4 independent variables (`float`) for each molecule. You can use a linear combination of these 4 independent variables to predict the bandgap (dependent variable) of each molecule.\n",
    "\n",
    "You can read more about the problem in [Li et al, Bandgap tuning strategy by cations and halide ions of lead halide perovskites learned from machine learning, RSC Adv., 2021,11, 15688-15694](https://doi.org/10.1039/D1RA03117A)."
   ]
  },
  {
   "cell_type": "code",
   "execution_count": 1,
   "id": "lyric-olympus",
   "metadata": {},
   "outputs": [],
   "source": [
    "import csv\n",
    "import random\n",
    "import numpy as np\n",
    "import matplotlib.pyplot as plt\n",
    "from tqdm import tqdm"
   ]
  },
  {
   "cell_type": "code",
   "execution_count": 2,
   "id": "hundred-receipt",
   "metadata": {},
   "outputs": [],
   "source": [
    "all_molecules = list()\n",
    "\n",
    "with open('bg_data.txt', 'r') as infile:\n",
    "    input_rows = csv.DictReader(infile)\n",
    "    \n",
    "    for row in input_rows:\n",
    "        current_mol = ([float(row['Cs']), float(row['FA']), float(row['Cl']), float(row['Br'])], float(row['Bandgap']))\n",
    "        all_molecules.append(current_mol)\n",
    "\n",
    "random.shuffle(all_molecules)\n",
    "\n",
    "\n",
    "num_train = int(len(all_molecules) * 0.8)\n",
    "\n",
    "# each point in x_train has 4 values - 1 for each feature\n",
    "x_train = [x[0] for x in all_molecules[:num_train]]\n",
    "# each point in y_train has 1 value - the bandgap of the molecule\n",
    "y_train = [x[1] for x in all_molecules[:num_train]]\n",
    "\n",
    "x_test = [x[0] for x in all_molecules[num_train:]]\n",
    "y_test = [x[1] for x in all_molecules[num_train:]]"
   ]
  },
  {
   "cell_type": "code",
   "execution_count": 85,
   "id": "68999ded",
   "metadata": {},
   "outputs": [
    {
     "data": {
      "text/plain": [
       "(87, 5)"
      ]
     },
     "execution_count": 85,
     "metadata": {},
     "output_type": "execute_result"
    }
   ],
   "source": [
    "X = np.array(x_train, dtype='float32')\n",
    "y = np.array(y_train, dtype='float32')\n",
    "\n",
    "X = np.append(X, np.ones((X.shape[0], 1)), axis=1)\n",
    "X.shape"
   ]
  },
  {
   "cell_type": "markdown",
   "id": "square-direction",
   "metadata": {},
   "source": [
    "### 2.1 Implement a Linear Regression model that minimizes the MSE **without using any libraries**. You may use NumPy to vectorize your code, but *do not use numpy.polyfit* or anything similar.\n",
    "\n",
    "2.1.1 Explain how you plan to implement Linear Regression in 5-10 lines."
   ]
  },
  {
   "cell_type": "markdown",
   "id": "frozen-forth",
   "metadata": {},
   "source": [
    "I plan to implement linear regression by taking a weight vector *(in my case of dimension (1, 5), including the intercept term)*, which i plan to fit to the training data using the gradient descent algorithm. Gradient descent will help me reduce the model loss to a sufficient extent, where my linear regression model will be ready. I choose a particular learning rate for the linear regression model, which would be the value by which i will update my weights at each step of gradient descent. I keep updating the weights till:\n",
    "- MSE converges, i.e doesn't change b magnitude of some epsilon (in my case 1e-7)\n",
    "- Or my `num_epochs` are done  \n",
    "\n",
    "Once this process is over, my weights have been trained on the data and can be used for prediction."
   ]
  },
  {
   "cell_type": "markdown",
   "id": "addressed-winter",
   "metadata": {},
   "source": [
    "2.1.2 Implement Linear Regression using `x_train` and `y_train` as the train dataset.\n",
    "\n",
    "2.1.2.1 Choose the best learning rate and print the learning rate for which you achieved the best MSE."
   ]
  },
  {
   "cell_type": "code",
   "execution_count": 86,
   "id": "angry-depression",
   "metadata": {},
   "outputs": [],
   "source": [
    "class LinearRegressor:\n",
    "    def __init__(self, lr=1):\n",
    "        self.lr = lr\n",
    "        self._coef = None\n",
    "        self.intercept = None\n",
    "        self.mse = None\n",
    "        self.mse_list = [1e7]\n",
    "        self.mse_conv = 1e-7\n",
    "        self.X = None\n",
    "        self.y = None\n",
    "    \n",
    "    def _loss_function(self):\n",
    "        self.mse = ((np.matmul(self.X, self._coef) - self.y).T@(np.matmul(self.X, self._coef) - self.y)) / (2 * self.X.shape[0])\n",
    "    \n",
    "    def _gradient(self):\n",
    "        return (self.X.T@(np.matmul(self.X, self._coef) - self.y)) / (self.X.shape[0])\n",
    "\n",
    "    def fit(self, X, y, num_epochs=10):\n",
    "        self.X = np.array(X, dtype='float32')\n",
    "        self.X = np.append(self.X, np.ones((self.X.shape[0], 1)), axis=1)\n",
    "        self.y = np.array(y, dtype='float32')\n",
    "        \n",
    "        self._coef = np.random.rand(self.X.shape[1])\n",
    "        for _ in range(num_epochs):\n",
    "            grad = self._gradient()\n",
    "            self._coef = self._coef - self.lr * grad\n",
    "            self._loss_function()\n",
    "            if abs(self.mse - self.mse_list[-1]) < self.mse_conv:\n",
    "                break\n",
    "            self.mse_list.append(self.mse)\n",
    "        self.intercept = self._coef[-1]\n",
    "    \n",
    "    def predict(self, X):\n",
    "        X_vec = np.array(X, dtype='float32')\n",
    "        X_vec = np.append(X_vec, np.ones((X_vec.shape[0], 1)), axis=1)\n",
    "        preds = np.matmul(X_vec, self._coef)\n",
    "        return preds"
   ]
  },
  {
   "cell_type": "code",
   "execution_count": 67,
   "id": "552cd150",
   "metadata": {},
   "outputs": [
    {
     "data": {
      "text/plain": [
       "Text(0, 0.5, 'MSE')"
      ]
     },
     "execution_count": 67,
     "metadata": {},
     "output_type": "execute_result"
    },
    {
     "data": {
      "image/png": "[encoded data removed]",
      "text/plain": [
       "<Figure size 432x288 with 1 Axes>"
      ]
     },
     "metadata": {
      "needs_background": "light"
     },
     "output_type": "display_data"
    }
   ],
   "source": [
    "lr_list = np.arange(0.2, 1.5, 0.1)\n",
    "mse_list = []\n",
    "for lr in lr_list:\n",
    "    regressor = LinearRegressor(lr=lr)\n",
    "    regressor.fit(x_train, y_train, num_epochs=100)\n",
    "    mse_list.append(regressor.mse)\n",
    "\n",
    "plt.plot(lr_list, mse_list, marker='o')\n",
    "plt.title(\"MSE vs LR (Training)\")\n",
    "plt.xlabel(\"LR\")\n",
    "plt.ylabel(\"MSE\")"
   ]
  },
  {
   "cell_type": "code",
   "execution_count": 87,
   "id": "b89f569c",
   "metadata": {},
   "outputs": [
    {
     "name": "stderr",
     "output_type": "stream",
     "text": [
      "100%|██████████| 1001/1001 [00:05<00:00, 166.94it/s]\n"
     ]
    },
    {
     "data": {
      "text/plain": [
       "Text(0, 0.5, 'MSE')"
      ]
     },
     "execution_count": 87,
     "metadata": {},
     "output_type": "execute_result"
    },
    {
     "data": {
      "image/png": "[encoded data removed]",
      "text/plain": [
       "<Figure size 432x288 with 1 Axes>"
      ]
     },
     "metadata": {
      "needs_background": "light"
     },
     "output_type": "display_data"
    }
   ],
   "source": [
    "lr_list = np.arange(0.0, 1.001, 0.001)\n",
    "y_test = np.array(y_test, dtype='float32')\n",
    "mse_list = []\n",
    "\n",
    "for i in tqdm(range(len(lr_list))):\n",
    "    regressor = LinearRegressor(lr=lr_list[i])\n",
    "    regressor.fit(x_train, y_train, num_epochs=10000)\n",
    "    preds = regressor.predict(x_test)\n",
    "    mse_list.append(((preds - y_test).T@(preds - y_test)) / (preds.shape[0]))\n",
    "\n",
    "plt.plot(lr_list, mse_list, marker='o')\n",
    "plt.title(\"MSE vs LR (Validation)\")\n",
    "plt.xlabel(\"LR\")\n",
    "plt.ylabel(\"MSE\")"
   ]
  },
  {
   "cell_type": "code",
   "execution_count": 88,
   "id": "52c1e83a",
   "metadata": {},
   "outputs": [
    {
     "name": "stdout",
     "output_type": "stream",
     "text": [
      "LR: 0.707, MSE: 0.0025383804697099183\n"
     ]
    }
   ],
   "source": [
    "print(f\"LR: {lr_list.tolist()[mse_list.index(min(mse_list))]}, MSE: {min(mse_list)}\")"
   ]
  },
  {
   "cell_type": "code",
   "execution_count": 91,
   "id": "ddbe567e",
   "metadata": {},
   "outputs": [],
   "source": [
    "regressor = LinearRegressor(lr=0.707)\n",
    "regressor.fit(x_train, y_train, num_epochs=10000)"
   ]
  },
  {
   "cell_type": "code",
   "execution_count": 92,
   "id": "08e90b84",
   "metadata": {},
   "outputs": [
    {
     "name": "stdout",
     "output_type": "stream",
     "text": [
      "weights: [-0.03250028 -0.11130948  1.53756324  0.65392833], intercept: 1.5919985828531589\n"
     ]
    }
   ],
   "source": [
    "print(f\"weights: {regressor._coef[:-1]}, intercept: {regressor.intercept}\")"
   ]
  },
  {
   "cell_type": "markdown",
   "id": "angry-tampa",
   "metadata": {},
   "source": [
    "2.1.3 Make a [Parity Plot](https://en.wikipedia.org/wiki/Parity_plot) of your model's bandgap predictions on the test set with the actual values."
   ]
  },
  {
   "cell_type": "code",
   "execution_count": 93,
   "id": "foster-center",
   "metadata": {},
   "outputs": [
    {
     "data": {
      "image/png": "[encoded data removed]",
      "text/plain": [
       "<Figure size 720x1440 with 1 Axes>"
      ]
     },
     "metadata": {
      "needs_background": "light"
     },
     "output_type": "display_data"
    }
   ],
   "source": [
    "y_pred = regressor.predict(x_test)\n",
    "\n",
    "fig, ax = plt.subplots(figsize=(10,20))\n",
    "ax.scatter(y_test, y_pred)\n",
    "\n",
    "lims = [\n",
    "    np.min([ax.get_xlim(), ax.get_ylim()]),\n",
    "    np.max([ax.get_xlim(), ax.get_ylim()]),\n",
    "]\n",
    "ax.plot(lims, lims, 'k-', alpha=0.75, zorder=0)\n",
    "ax.set_aspect('equal')\n",
    "ax.set_xlim(lims)\n",
    "ax.set_ylim(lims)\n",
    "\n",
    "ax.set_title('Parity Plot of Custom Linear Regression')\n",
    "ax.set_xlabel('Ground truth bandgap values')\n",
    "ax.set_ylabel('Predicted bandgap values')\n",
    "plt.show()"
   ]
  },
  {
   "cell_type": "markdown",
   "id": "dominant-chaos",
   "metadata": {},
   "source": [
    "### 2.2 Implement Ridge regression\n",
    "2.2.1 Explain Ridge regression briefly in 1-2 lines."
   ]
  },
  {
   "cell_type": "markdown",
   "id": "happy-cyprus",
   "metadata": {},
   "source": [
    "Ridge regression is a modification to the standard linear regression algorithm where we add an additional factor of $\\alpha||W||^2_2$ where $W$ is the weight vector and $\\alpha$ is the regularization factor. The $\\alpha$ term regularizes the weights such that larger values of weights are penalized (*higher loss value*). This helps reduce the model complexity and multi-collinearity (*high inter-dependence between the weights*)."
   ]
  },
  {
   "cell_type": "markdown",
   "id": "tight-forwarding",
   "metadata": {},
   "source": [
    "2.2.2 Implement Ridge regression and make a table of different RMSE scores you achieved with different values of alpha. What does the parameter `alpha` do? How does it affect the results here? Explain in 5-10 lines in total. (You can use scikit-learn from this cell onwards)"
   ]
  },
  {
   "cell_type": "code",
   "execution_count": 16,
   "id": "violent-northern",
   "metadata": {},
   "outputs": [
    {
     "data": {
      "text/plain": [
       "Text(0, 0.5, 'MSE')"
      ]
     },
     "execution_count": 16,
     "metadata": {},
     "output_type": "execute_result"
    },
    {
     "data": {
      "image/png": "[encoded data removed]",
      "text/plain": [
       "<Figure size 432x288 with 1 Axes>"
      ]
     },
     "metadata": {
      "needs_background": "light"
     },
     "output_type": "display_data"
    }
   ],
   "source": [
    "from sklearn.linear_model import Ridge\n",
    "from sklearn.metrics import mean_squared_error\n",
    "\n",
    "alpha = np.arange(0.005, 1, 0.005)\n",
    "mse_list = []\n",
    "for aph in alpha:\n",
    "    clf = Ridge(alpha=aph)\n",
    "    clf.fit(x_train, y_train)\n",
    "    preds = clf.predict(x_test)\n",
    "    mse_list.append(mean_squared_error(y_test, preds))\n",
    "\n",
    "plt.plot(alpha, mse_list)\n",
    "plt.xlabel('Alpha')\n",
    "plt.ylabel('MSE')"
   ]
  },
  {
   "cell_type": "markdown",
   "id": "9cf6d309",
   "metadata": {},
   "source": [
    "The parameter `alpha` is the regularization factor. It regularizes the weights of the regression model by punishing higher weight values (*due to the higher loss*). We can see from the above graph that the MSE increases for increasing `alpha`. This implies that there are not many outliers in the given data and regularization would not help."
   ]
  },
  {
   "cell_type": "markdown",
   "id": "adolescent-temperature",
   "metadata": {},
   "source": [
    "### 2.3 Implement Lasso regression\n",
    "2.3.1 Explain Lasso regression briefly in 1-2 lines."
   ]
  },
  {
   "cell_type": "markdown",
   "id": "6651b160",
   "metadata": {},
   "source": [
    "Lasso regression is also a modification to the standard linear regression algorithm where we add an additional factor of $\\alpha||W||$ where $W$ is the weight vector and $\\alpha$ is the regularization factor. Lasso regression is different from Ridge that instead of taking the L2 norm, we take the L1 norm of the weights. Since its just the L1 norm, its tends to make some weights absolute zero, which helps in feature extraction also (*something ridge regression cannot do, due to L2 Norm*)"
   ]
  },
  {
   "cell_type": "markdown",
   "id": "popular-wonder",
   "metadata": {},
   "source": [
    "2.3.2 Implement Lasso regression and make a table of different RMSE scores you achieved with different values of alpha. What does the parameter `alpha` do? How does it affect the results here? Explain in 5-10 lines in total."
   ]
  },
  {
   "cell_type": "code",
   "execution_count": 14,
   "id": "extra-brighton",
   "metadata": {},
   "outputs": [
    {
     "data": {
      "text/plain": [
       "Text(0, 0.5, 'MSE')"
      ]
     },
     "execution_count": 14,
     "metadata": {},
     "output_type": "execute_result"
    },
    {
     "data": {
      "image/png": "[encoded data removed]",
      "text/plain": [
       "<Figure size 432x288 with 1 Axes>"
      ]
     },
     "metadata": {
      "needs_background": "light"
     },
     "output_type": "display_data"
    }
   ],
   "source": [
    "from sklearn.linear_model import Lasso\n",
    "from sklearn.metrics import mean_squared_error\n",
    "\n",
    "alpha = np.arange(0.005, 1, 0.005)\n",
    "mse_list = []\n",
    "for aph in alpha:\n",
    "    clf = Lasso(alpha=aph)\n",
    "    clf.fit(x_train, y_train)\n",
    "    preds = clf.predict(x_test)\n",
    "    mse_list.append(mean_squared_error(y_test, preds))\n",
    "\n",
    "plt.plot(alpha, mse_list)\n",
    "plt.xlabel('Alpha')\n",
    "plt.ylabel('MSE')"
   ]
  },
  {
   "cell_type": "markdown",
   "id": "accompanied-worst",
   "metadata": {},
   "source": [
    "The parameter `alpha` is the regularization factor. It regularizes the weights of the regression model by punishing higher weight values (*due to the higher loss*) and additionally as it uses L1 norm, it also helps remove less important weights (*reduces them to zero*). We can see from the above graph that the MSE increases for increasing `alpha` and then gets constant at around $0.1$. This implies that the data is already centred, and there are not many outliers in the given data, so regularization makes the performance worse."
   ]
  }
 ],
 "metadata": {
  "kernelspec": {
   "display_name": "Python 3.10.4 64-bit",
   "language": "python",
   "name": "python3"
  },
  "language_info": {
   "codemirror_mode": {
    "name": "ipython",
    "version": 3
   },
   "file_extension": ".py",
   "mimetype": "text/x-python",
   "name": "python",
   "nbconvert_exporter": "python",
   "pygments_lexer": "ipython3",
   "version": "3.10.4"
  },
  "vscode": {
   "interpreter": {
    "hash": "a4a32208fe57bd9bd2e8cf471b55207ccd1db41e4a4526642b234c85a6d3d80c"
   }
  }
 },
 "nbformat": 4,
 "nbformat_minor": 5
}
