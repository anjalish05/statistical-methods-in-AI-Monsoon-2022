{
 "cells": [
  {
   "cell_type": "markdown",
   "id": "improving-pepper",
   "metadata": {},
   "source": [
    "# Assignment 2 - Question 4\n",
    "The objective of this assignment is to get you familiarize with  the  problem  of  `Linear Regression`.\n",
    "\n",
    "## Instructions\n",
    "- Write your code and analysis in the indicated cells.\n",
    "- Ensure that this notebook runs without errors when the cells are run in sequence.\n",
    "- Do not attempt to change the contents of other cells.\n",
    "- No inbuilt functions to be used until specified\n",
    "\n",
    "## Submission\n",
    "- Ensure that this notebook runs without errors when the cells are run in sequence.\n",
    "- Rename the notebook to `<roll_number>_Q4.ipynb`.\n",
    "- Fill the Name and Roll number in the below markdown"
   ]
  },
  {
   "cell_type": "markdown",
   "id": "6f6269f1",
   "metadata": {},
   "source": [
    "Name: Anjali Singh<br>\n",
    "Roll Number: 2020102004"
   ]
  },
  {
   "cell_type": "markdown",
   "id": "final-transaction",
   "metadata": {},
   "source": [
    "## Background about the dataset\n",
    "\n",
    "TLDR: You have 4 independent variables (`float`) for each molecule. You can use a linear combination of these 4 independent variables to predict the bandgap (dependent variable) of each molecule.\n",
    "\n",
    "You can read more about the problem in [Li et al, Bandgap tuning strategy by cations and halide ions of lead halide perovskites learned from machine learning, RSC Adv., 2021,11, 15688-15694](https://doi.org/10.1039/D1RA03117A)."
   ]
  },
  {
   "cell_type": "code",
   "execution_count": 3,
   "id": "lyric-olympus",
   "metadata": {},
   "outputs": [],
   "source": [
    "import csv\n",
    "import random\n",
    "import numpy as np\n",
    "import matplotlib.pyplot as plt"
   ]
  },
  {
   "cell_type": "code",
   "execution_count": 4,
   "id": "hundred-receipt",
   "metadata": {},
   "outputs": [],
   "source": [
    "all_molecules = list()\n",
    "\n",
    "with open('bg_data.txt', 'r') as infile:\n",
    "    input_rows = csv.DictReader(infile)\n",
    "    \n",
    "    for row in input_rows:\n",
    "        current_mol = ([float(row['Cs']), float(row['FA']), float(row['Cl']), float(row['Br'])], float(row['Bandgap']))\n",
    "        all_molecules.append(current_mol)\n",
    "\n",
    "random.shuffle(all_molecules)\n",
    "\n",
    "\n",
    "num_train = int(len(all_molecules) * 0.8)\n",
    "\n",
    "# each point in x_train has 4 values - 1 for each feature\n",
    "x_train = [x[0] for x in all_molecules[:num_train]]\n",
    "# each point in y_train has 1 value - the bandgap of the molecule\n",
    "y_train = [x[1] for x in all_molecules[:num_train]]\n",
    "\n",
    "x_test = [x[0] for x in all_molecules[num_train:]]\n",
    "y_test = [x[1] for x in all_molecules[num_train:]]"
   ]
  },
  {
   "cell_type": "markdown",
   "id": "square-direction",
   "metadata": {},
   "source": [
    "### 4.1 Implement a Linear Regression model that minimizes the MSE **without using any libraries**. You may use NumPy to vectorize your code, but *do not use numpy.polyfit* or anything similar.\n",
    "\n",
    "4.1.1 Explain how you plan to implement Linear Regression in 5-10 lines."
   ]
  },
  {
   "cell_type": "markdown",
   "id": "frozen-forth",
   "metadata": {},
   "source": [
    "<!-- your answer to 1.1.1 -->\n",
    "\n",
    "Implementing the linear regression by taking a weight vector (and the usage of the intercept term), wherein I'll fit the training data using the gradient descent algorithm which helps reduce the model loss. I'll be using a specific value of learning rate for the LR model with whihc I'll be changing/updating the weights at each step of gradient descent. \n",
    "\n",
    "- MSE converges, i.e doesn't change the magnitude \n",
    "- Or <b> num_epochs </b> are done  \n",
    "\n",
    "Once this process is over, the weights have been trained on the data and can be used for prediction."
   ]
  },
  {
   "cell_type": "markdown",
   "id": "addressed-winter",
   "metadata": {},
   "source": [
    "4.1.2 Implement Linear Regression using `x_train` and `y_train` as the train dataset.\n",
    "\n",
    "4.1.2.1 Choose the best learning rate and print the learning rate for which you achieved the best MSE."
   ]
  },
  {
   "cell_type": "markdown",
   "id": "f331d0bf",
   "metadata": {},
   "source": [
    "<b> Linear Regression Model </b>\n",
    "\n",
    "$$ \n",
    "y_i = x_i\\beta + \\epsilon_{i}\n",
    "$$\n",
    "where $y_i$ is dependent variable, $x_i$ is vector of regressors, $\\beta$ is a vector of regression coefficients and $\\epsilon_i$ is an unobservable error term.\n",
    "<br>\n",
    "\n",
    "Quadratic loss: results in MSE\n",
    "$$ MSE(y, y_{pred}) = 1/n((y_i - y_{pred})^T(y_i - y_{pred})) $$\n",
    "$$ Loss =  MSE(f) = 1/n.\\sum_{i=1}^{i=n}(y_i - f(x_i))^2 $$"
   ]
  },
  {
   "cell_type": "code",
   "execution_count": 5,
   "id": "angry-depression",
   "metadata": {},
   "outputs": [],
   "source": [
    "# implement Linear Regression\n",
    "\n",
    "class LinearRegressor:\n",
    "    def __init__(self, lr = 1):\n",
    "        self.lr = lr\n",
    "        self.coef = None\n",
    "        self.intercept = None\n",
    "        self.mse = None\n",
    "        self.mse_list = [1e7]\n",
    "        self.mse_conv = 1e-7\n",
    "        self.X = None\n",
    "        self.y = None\n",
    "\n",
    "    # np.matmul: used for matrix product of two arrays\n",
    "    # np.dot: dot product of two arrays\n",
    "    # @: class decorators: function that takes another function as an argument, adds some\n",
    "    # functionalities, and returns the modified function\n",
    "\n",
    "    def lossFunction(self):\n",
    "        self.mse = ((np.dot(self.X, self.coef) - self.y).T@(np.matmul(self.X, self.coef) - self.y)) / (2 * self.X.shape[0])\n",
    "        \n",
    "    def gradient(self):\n",
    "        grad = (self.X.T@(np.dot(self.X, self.coef) - self.y)) / (self.X.shape[0])\n",
    "        \n",
    "        return grad \n",
    "        \n",
    "    # fit function: will do the actual learning of LR model, helps in finding the weights\n",
    "    def fit(self, X, y, num_epochs = 10):\n",
    "        self.X = np.array(X, dtype = 'float32')\n",
    "        self.X = np.append(self.X, np.ones((self.X.shape[0], 1)), axis = 1)\n",
    "        self.y = np.array(y, dtype = 'float32')\n",
    "            \n",
    "        self.coef = np.random.rand(self.X.shape[1])\n",
    "\n",
    "        for _ in range(num_epochs):\n",
    "            grad = self.gradient()\n",
    "            self.coef = self.coef - self.lr * grad\n",
    "            self.lossFunction()\n",
    "            if (abs(self.mse - self.mse_list[-1]) < self.mse_conv):\n",
    "                break\n",
    "            self.mse_list.append(self.mse)\n",
    "        self.intercept = self.coef[-1]\n",
    "    \n",
    "    # returns the output of our model\n",
    "    def predict(self, X):\n",
    "        X_vec = np.array(X, dtype='float32')\n",
    "        X_vec = np.append(X_vec, np.ones((X_vec.shape[0], 1)), axis=1)\n",
    "        preds = np.matmul(X_vec, self.coef)\n",
    "        return preds"
   ]
  },
  {
   "cell_type": "code",
   "execution_count": 6,
   "id": "375b73e2",
   "metadata": {},
   "outputs": [
    {
     "data": {
      "text/plain": [
       "Text(0, 0.5, 'MSE')"
      ]
     },
     "execution_count": 6,
     "metadata": {},
     "output_type": "execute_result"
    },
    {
     "data": {
      "image/png": "[encoded data removed]",
      "text/plain": [
       "<Figure size 432x288 with 1 Axes>"
      ]
     },
     "metadata": {
      "needs_background": "light"
     },
     "output_type": "display_data"
    }
   ],
   "source": [
    "lr_list = np.arange(0.2, 1.5, 0.1)\n",
    "mse_list = []\n",
    "for lr in lr_list:\n",
    "    regressor = LinearRegressor(lr=lr)\n",
    "    regressor.fit(x_train, y_train, num_epochs=100)\n",
    "    mse_list.append(regressor.mse)\n",
    "\n",
    "plt.plot(lr_list, mse_list, marker= '^')\n",
    "plt.title(\"MSE vs LR (Training)\")\n",
    "plt.xlabel(\"LR\")\n",
    "plt.ylabel(\"MSE\")"
   ]
  },
  {
   "cell_type": "code",
   "execution_count": 7,
   "id": "5e6bed61",
   "metadata": {},
   "outputs": [
    {
     "data": {
      "text/plain": [
       "Text(0, 0.5, 'MSE')"
      ]
     },
     "execution_count": 7,
     "metadata": {},
     "output_type": "execute_result"
    },
    {
     "data": {
      "image/png": "[encoded data removed]",
      "text/plain": [
       "<Figure size 432x288 with 1 Axes>"
      ]
     },
     "metadata": {
      "needs_background": "light"
     },
     "output_type": "display_data"
    }
   ],
   "source": [
    "lr_list = np.arange(0.0, 1.000, 0.001)\n",
    "y_test = np.array(y_test, dtype='float32')\n",
    "mse_list = []\n",
    "\n",
    "for i in (range(len(lr_list))):\n",
    "    regressor = LinearRegressor(lr=lr_list[i])\n",
    "    regressor.fit(x_train, y_train, num_epochs = 100)\n",
    "    preds = regressor.predict(x_test)\n",
    "    mse_list.append(((preds - y_test).T@(preds - y_test)) / (preds.shape[0]))\n",
    "\n",
    "plt.plot(lr_list, mse_list, marker = 'o')\n",
    "plt.title(\"MSE vs LR (Testing)\")\n",
    "plt.xlabel(\"LR\")\n",
    "plt.ylabel(\"MSE\")"
   ]
  },
  {
   "cell_type": "code",
   "execution_count": 8,
   "id": "bb7afed5",
   "metadata": {},
   "outputs": [
    {
     "name": "stdout",
     "output_type": "stream",
     "text": [
      "Best Learning Rate (LR): 0.498 and Minimum MSE: 0.002898457603056431\n"
     ]
    }
   ],
   "source": [
    "# Calculating the best learning rate by finding the minimum MSE from the list of MSE \n",
    "best_lr = lr_list.tolist()[mse_list.index(min(mse_list))]\n",
    "min_mse = min(mse_list)\n",
    "\n",
    "print(\"Best Learning Rate (LR):\", best_lr, \"and Minimum MSE:\", min_mse)"
   ]
  },
  {
   "cell_type": "code",
   "execution_count": 9,
   "id": "290e4269",
   "metadata": {},
   "outputs": [
    {
     "name": "stdout",
     "output_type": "stream",
     "text": [
      "Weights: [-0.02273671 -0.14398621  1.52131945  0.62408177] \n",
      "Intercept: 1.615997671133105\n"
     ]
    }
   ],
   "source": [
    "regressor_bestMSE = LinearRegressor(lr = 1.2000000000000004)\n",
    "regressor_bestMSE.fit(x_train, y_train, num_epochs = 10000)\n",
    "\n",
    "weights = regressor_bestMSE.coef[:-1]\n",
    "intercept = regressor_bestMSE.intercept\n",
    "\n",
    "print(\"Weights:\", weights, \"\\nIntercept:\", intercept)"
   ]
  },
  {
   "cell_type": "markdown",
   "id": "angry-tampa",
   "metadata": {},
   "source": [
    "4.1.3 Make a [Parity Plot](https://en.wikipedia.org/wiki/Parity_plot) of your model's bandgap predictions on the test set with the actual values."
   ]
  },
  {
   "cell_type": "code",
   "execution_count": 10,
   "id": "foster-center",
   "metadata": {},
   "outputs": [
    {
     "data": {
      "image/png": "[encoded data removed]",
      "text/plain": [
       "<Figure size 720x1440 with 1 Axes>"
      ]
     },
     "metadata": {
      "needs_background": "light"
     },
     "output_type": "display_data"
    }
   ],
   "source": [
    "# Get the predictions of x_test into `y_pred`\n",
    "\n",
    "#\n",
    "# ...\n",
    "#\n",
    "\n",
    "y_pred = regressor.predict(x_test)\n",
    "fig, ax = plt.subplots(figsize=(10,20))\n",
    "\n",
    "ax.scatter(y_test, y_pred)\n",
    "\n",
    "lims = [\n",
    "    np.min([ax.get_xlim(), ax.get_ylim()]),\n",
    "    np.max([ax.get_xlim(), ax.get_ylim()]),\n",
    "]\n",
    "ax.plot(lims, lims, 'k-', alpha=0.75, zorder=0)\n",
    "ax.set_aspect('equal')\n",
    "ax.set_xlim(lims)\n",
    "ax.set_ylim(lims)\n",
    "\n",
    "ax.set_title('Parity Plot of Custom Linear Regression')\n",
    "ax.set_xlabel('Ground truth bandgap values')\n",
    "ax.set_ylabel('Predicted bandgap values')\n",
    "plt.show()"
   ]
  },
  {
   "cell_type": "markdown",
   "id": "dominant-chaos",
   "metadata": {},
   "source": [
    "### 4.2 Implement Ridge regression\n",
    "4.2.1 Explain Ridge regression briefly in 1-2 lines."
   ]
  },
  {
   "cell_type": "markdown",
   "id": "happy-cyprus",
   "metadata": {},
   "source": [
    "<!-- Your answer to 1.2.1 -->\n",
    "\n",
    "<b>Ridge regression</b> is a linear regression variation to estimate the coefficients of multi-regression models in situations where the independent variables are highly correlated. <br>\n",
    "It slightly changes the cost function for enhancing the regular linear regression, to reduce overfitting. "
   ]
  },
  {
   "cell_type": "markdown",
   "id": "tight-forwarding",
   "metadata": {},
   "source": [
    "4.2.2 Implement Ridge regression and make a table of different RMSE scores you achieved with different values of alpha. What does the parameter `alpha` do? How does it affect the results here? Explain in 5-10 lines in total. (You can use scikit-learn from this cell onwards)"
   ]
  },
  {
   "cell_type": "markdown",
   "id": "6c7eaff1",
   "metadata": {},
   "source": [
    "$ y_{pred} = (x_b.\\theta) $ \n",
    "<br>\n",
    "$ \\theta = \\begin{bmatrix} \\theta_o \\\\ \\theta_1 \\end{bmatrix} $ and  \n",
    "$ x_b = \\begin{bmatrix} 1 \\\\ x \\end{bmatrix} $"
   ]
  },
  {
   "cell_type": "code",
   "execution_count": 11,
   "id": "ce45151d",
   "metadata": {},
   "outputs": [],
   "source": [
    "def normal_eq_ridge(X, y, alpha):\n",
    "    intercept_ones = np.ones((len(X), 1))\n",
    "    X_b = np.c_[intercept_ones, X]\n",
    "    I = np.identity(X_b.shape[1])\n",
    "    I[0][0] = 0\n",
    "    # normal equation\n",
    "    theta_optimal = np.linalg.inv(X_b.T.dot(X_b) + alpha*I).dot(X_b.T).dot(y)\n",
    "\n",
    "    return theta_optimal\n",
    "\n",
    "def mse(y, y_predicted):\n",
    "    error = y-y_predicted\n",
    "    loss = 1/(y.shape) * np.dot(error.T, error)\n",
    "    return loss\n",
    "\n",
    "def ridgeMSE(y, y_predicted, alpha, theta):\n",
    "    mse = mse(y, y_predicted)\n",
    "    ridge_mse = mse(y, y_predicted) + alpha * np.dot(theta,theta)\n",
    "    return ridge_mse\n"
   ]
  },
  {
   "cell_type": "code",
   "execution_count": 12,
   "id": "d42e0c7d",
   "metadata": {},
   "outputs": [
    {
     "name": "stdout",
     "output_type": "stream",
     "text": [
      "[ 1.73812028 -0.03173165 -0.23024632  1.25025552  0.49721914]\n"
     ]
    }
   ],
   "source": [
    "import sklearn\n",
    "\n",
    "theta_ridge = normal_eq_ridge(x_train, y_train, 1)\n",
    "print(theta_ridge)"
   ]
  },
  {
   "cell_type": "markdown",
   "id": "8dcf8ce0",
   "metadata": {},
   "source": [
    "The parameter `alpha` is the regularization factor. It regularizes the weights of the regression model and helps in reducing overfitting. We can see from the graph below that the MSE increases for increasing `alpha`. By changing the values of `alpha`, we control the penalty term. The higher its value, the bigger is the penalty and thereby, the magnitude of the coefficients get reduced. This implies that there are not many outliers in the given data and regularization would not help. "
   ]
  },
  {
   "cell_type": "code",
   "execution_count": 13,
   "id": "violent-northern",
   "metadata": {},
   "outputs": [
    {
     "data": {
      "text/plain": [
       "Text(0, 0.5, 'MSE')"
      ]
     },
     "execution_count": 13,
     "metadata": {},
     "output_type": "execute_result"
    },
    {
     "data": {
      "image/png": "[encoded data removed]",
      "text/plain": [
       "<Figure size 432x288 with 1 Axes>"
      ]
     },
     "metadata": {
      "needs_background": "light"
     },
     "output_type": "display_data"
    }
   ],
   "source": [
    "# implement Ridge regression and make a table where you explore the effects of different values of `alpha`\n",
    "from sklearn.linear_model import Ridge\n",
    "from sklearn.metrics import mean_squared_error\n",
    "\n",
    "alpha = np.arange(0.005, 1, 0.005)\n",
    "mse_list = []\n",
    "for i in alpha:\n",
    "    clf = Ridge(alpha = i)\n",
    "    clf.fit(x_train, y_train)\n",
    "    preds = clf.predict(x_test)\n",
    "    mse_list.append(mean_squared_error(y_test, preds))\n",
    "\n",
    "plt.plot(alpha, mse_list)\n",
    "plt.xlabel('Alpha')\n",
    "plt.ylabel('MSE')"
   ]
  },
  {
   "cell_type": "markdown",
   "id": "adolescent-temperature",
   "metadata": {},
   "source": [
    "### 4.3 Implement Lasso regression\n",
    "4.3.1 Explain Lasso regression briefly in 1-2 lines."
   ]
  },
  {
   "cell_type": "markdown",
   "id": "9f137c1b",
   "metadata": {},
   "source": [
    "<b>Lasso Regression </b> is a regularization technique used over other linear regression methods for a more accurate prediction. In this model, the data points are shrunk towards a central point as mean. "
   ]
  },
  {
   "cell_type": "markdown",
   "id": "popular-wonder",
   "metadata": {},
   "source": [
    "4.3.2 Implement Lasso regression and make a table of different RMSE scores you achieved with different values of alpha. What does the parameter `alpha` do? How does it affect the results here? Explain in 5-10 lines in total."
   ]
  },
  {
   "cell_type": "markdown",
   "id": "73fe21d6",
   "metadata": {},
   "source": [
    "The `alpha` here is a regularization factor. When `alpha` = 0, lasso regression produces the same coefficients as a linear regression. And when `alpha` is huge, all coefficients tend to zero. "
   ]
  },
  {
   "cell_type": "code",
   "execution_count": 14,
   "id": "extra-brighton",
   "metadata": {},
   "outputs": [
    {
     "data": {
      "text/plain": [
       "Text(0, 0.5, 'MSE')"
      ]
     },
     "execution_count": 14,
     "metadata": {},
     "output_type": "execute_result"
    },
    {
     "data": {
      "image/png": "[encoded data removed]",
      "text/plain": [
       "<Figure size 432x288 with 1 Axes>"
      ]
     },
     "metadata": {
      "needs_background": "light"
     },
     "output_type": "display_data"
    }
   ],
   "source": [
    "# implement Lasso regression and make a table where you explore the effect of different values of `alpha`\n",
    "from sklearn.linear_model import Lasso\n",
    "from sklearn.metrics import mean_squared_error\n",
    "\n",
    "alpha = np.arange(0.005, 1, 0.005)\n",
    "mse_list = []\n",
    "for aph in alpha:\n",
    "    clf = Lasso(alpha=aph)\n",
    "    clf.fit(x_train, y_train)\n",
    "    preds = clf.predict(x_test)\n",
    "    mse_list.append(mean_squared_error(y_test, preds))\n",
    "\n",
    "plt.plot(alpha, mse_list)\n",
    "plt.xlabel('Alpha')\n",
    "plt.ylabel('MSE')"
   ]
  }
 ],
 "metadata": {
  "kernelspec": {
   "display_name": "Python 3.10.4 64-bit",
   "language": "python",
   "name": "python3"
  },
  "language_info": {
   "codemirror_mode": {
    "name": "ipython",
    "version": 3
   },
   "file_extension": ".py",
   "mimetype": "text/x-python",
   "name": "python",
   "nbconvert_exporter": "python",
   "pygments_lexer": "ipython3",
   "version": "3.10.4"
  },
  "vscode": {
   "interpreter": {
    "hash": "a4a32208fe57bd9bd2e8cf471b55207ccd1db41e4a4526642b234c85a6d3d80c"
   }
  }
 },
 "nbformat": 4,
 "nbformat_minor": 5
}
