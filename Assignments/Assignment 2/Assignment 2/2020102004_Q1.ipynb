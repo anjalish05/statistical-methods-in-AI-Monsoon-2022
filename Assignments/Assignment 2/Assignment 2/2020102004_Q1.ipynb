{
 "cells": [
  {
   "cell_type": "markdown",
   "id": "186be3d3",
   "metadata": {},
   "source": [
    "# Assignment 2 - Question 1\n",
    "The objective of this assignment is to get you familiarize with  the  problem  of  `KNN Classifiers`.\n",
    "\n",
    "\n",
    "## Instructions\n",
    "- Do not Use Direct Inbuilt functions for the Task.\n",
    "- Numpy or other math libraries are allowed \n",
    "- Ensure that this notebook runs without errors when the cells are run in sequence.\n",
    "- Do not change the contents of the Given cells. Use new cells to Write your code.\n",
    "\n",
    "\n",
    "## Submission\n",
    "- Ensure that this notebook runs without errors when the cells are run in sequence.\n",
    "- Rename the notebook to `<roll_number>_Q1.ipynb`\n",
    "- Fill the Name and Roll number in the below markdown"
   ]
  },
  {
   "cell_type": "markdown",
   "id": "6f6269f1",
   "metadata": {},
   "source": [
    "Name: Anjali Singh <br>\n",
    "Roll Number: 2020102004"
   ]
  },
  {
   "cell_type": "markdown",
   "id": "edeabff5",
   "metadata": {},
   "source": [
    "### Dataset\n",
    "\n",
    "Use the code below to load the Dataset"
   ]
  },
  {
   "cell_type": "code",
   "execution_count": 4,
   "id": "69cac090",
   "metadata": {},
   "outputs": [],
   "source": [
    "import numpy as np\n",
    "import pandas as pd\n",
    "from sklearn.model_selection import train_test_split\n",
    "import matplotlib.pyplot as plt"
   ]
  },
  {
   "cell_type": "code",
   "execution_count": 5,
   "id": "e0fa6912",
   "metadata": {},
   "outputs": [],
   "source": [
    "# Load data\n",
    "iris = pd.read_csv('Iris.csv')\n",
    "\n",
    "#data cleaning\n",
    "iris.drop(columns=\"Id\",inplace=True)"
   ]
  },
  {
   "cell_type": "code",
   "execution_count": 7,
   "id": "1ca8135b",
   "metadata": {},
   "outputs": [],
   "source": [
    "# features and labels\n",
    "X = iris.iloc[:,0:4].values\n",
    "y = iris.iloc[:,4].values\n",
    "\n",
    "#Train and Test split\n",
    "X_train, X_test, y_train, y_test = train_test_split(X, y, test_size=0.2, random_state = 0)"
   ]
  },
  {
   "cell_type": "markdown",
   "id": "d14014cb",
   "metadata": {},
   "source": [
    "Write your Code below for KNN Classifier.<br>\n",
    "Use different values of K and test the accuracies."
   ]
  },
  {
   "cell_type": "code",
   "execution_count": 8,
   "id": "6ca8c19d",
   "metadata": {},
   "outputs": [],
   "source": [
    "\n",
    "neighbors = np.arange(1, 9)\n",
    "train_accuracy = np.empty(len(neighbors))\n",
    "test_accuracy = np.empty(len(neighbors))\n",
    "\n",
    "# looping over k values\n",
    "\n"
   ]
  },
  {
   "cell_type": "markdown",
   "id": "177fd751",
   "metadata": {},
   "source": [
    "#### Euclidean Distance\n",
    "\n",
    "$$ d(x, y) = (\\sum_{i=1}^{n} (x_i - y_i)^2)^{(1/2)} $$"
   ]
  },
  {
   "cell_type": "code",
   "execution_count": 10,
   "id": "42020166",
   "metadata": {},
   "outputs": [],
   "source": [
    "def knn(xTrain, xTest, k):\n",
    "\n",
    "    # the following formula calculates the Euclidean distances.\n",
    "    # np.sum((xTrain-xTest)^2)\n",
    "    distances = -2 * np.dot(xTrain, xTest.T) + np.sum(xTest**2,axis=1) + np.sum(xTrain**2,axis=1)[:, np.newaxis]\n",
    "\n",
    "    #because of numpy precision, some really small numbers might \n",
    "    #become negatives. So, the following is required.\n",
    "    distances[distances < 0] = 0\n",
    "\n",
    "    #for speed you can avoid the square root since it won't affect\n",
    "    #the result, but apply it for exact distances.\n",
    "    distances = np.sqrt(distances)\n",
    "    indices = np.argsort(distances, 0) # get indices of sorted items\n",
    "    distances = np.sort(distances, 0) # distances sorted in axis 0\n",
    "    \n",
    "    #returning the top-k closest distances.\n",
    "    return indices[0:k, : ], distances[0:k, : ]"
   ]
  },
  {
   "cell_type": "code",
   "execution_count": 11,
   "id": "97926593",
   "metadata": {},
   "outputs": [],
   "source": [
    "def knn_predictions(xTrain,yTrain,xTest,k=3):\n",
    "    indices, distances = knn(xTrain, xTest, k)\n",
    "    yTrain = yTrain.flatten()\n",
    "    rows, columns = indices.shape\n",
    "    # print(\"Indices rows and columns:\", indices.shape)\n",
    "    predictions = list()\n",
    "    for j in range(columns):\n",
    "        temp = list()\n",
    "        for i in range(rows):\n",
    "            cell = indices[i][j]\n",
    "            temp.append(yTrain[cell])\n",
    "        predictions.append(max(temp, key = temp.count)) # this is the key function, brings the mode value\n",
    "    predictions = np.array(predictions)\n",
    "    return predictions"
   ]
  },
  {
   "cell_type": "code",
   "execution_count": 12,
   "id": "a143ba33",
   "metadata": {},
   "outputs": [],
   "source": [
    "#from sklearn.neighbors import KNeighborsClassifier\n",
    "from sklearn.metrics import accuracy_score\n",
    "from sklearn import metrics"
   ]
  },
  {
   "cell_type": "code",
   "execution_count": 13,
   "id": "b6536612",
   "metadata": {},
   "outputs": [
    {
     "name": "stdout",
     "output_type": "stream",
     "text": [
      "Accuracies:- \n",
      "k = 0 100.0\n",
      "k = 1 100.0\n",
      "k = 2 96.66666666666667\n",
      "k = 3 96.66666666666667\n",
      "k = 4 96.66666666666667\n",
      "k = 5 100.0\n",
      "k = 6 100.0\n",
      "k = 7 100.0\n",
      "k = 8 100.0\n",
      "k = 9 100.0\n",
      "k = 10 100.0\n",
      "k = 11 100.0\n",
      "k = 12 100.0\n",
      "k = 13 100.0\n",
      "The best accuracy was: 100.0 % with k = 1\n"
     ]
    },
    {
     "data": {
      "image/png": "[encoded data removed]",
      "text/plain": [
       "<Figure size 432x288 with 1 Axes>"
      ]
     },
     "metadata": {
      "needs_background": "light"
     },
     "output_type": "display_data"
    }
   ],
   "source": [
    "#will first check which is the best k\n",
    "Ks = 15\n",
    "mean_acc = np.zeros((Ks-1))\n",
    "std_acc = np.zeros((Ks-1))\n",
    "#ConfustionMx = [];\n",
    "print(\"Accuracies:- \")\n",
    "for n in range(1,Ks):    \n",
    "    #Train Model and Predict\n",
    "\n",
    "    yhat = knn_predictions(X_train, y_train, X_test, n)\n",
    "    mean_acc[n-1] = metrics.accuracy_score(y_test, yhat)    \n",
    "    std_acc[n-1] = np.std(yhat == y_test)/np.sqrt(yhat.shape[0])\n",
    "\n",
    "    print(\"k =\", n-1, mean_acc[n-1]*100)\n",
    "\n",
    "print( \"The best accuracy was:\", np.round(mean_acc.max()*100, 2), \"% with k =\", mean_acc.argmax()+1) \n",
    "\n",
    "plt.plot(range(1,Ks),mean_acc,'g')\n",
    "plt.fill_between(range(1,Ks),mean_acc - 1 * std_acc,mean_acc + 1 * std_acc, alpha=0.05)\n",
    "plt.legend(('Accuracy ', '+/- 3xstd'))\n",
    "plt.ylabel('Accuracy ')\n",
    "plt.xlabel('Number of Neighbors (k)')\n",
    "plt.tight_layout()\n",
    "plt.show()"
   ]
  },
  {
   "cell_type": "markdown",
   "id": "1c3ac0ca",
   "metadata": {},
   "source": [
    "### Questions\n",
    "\n",
    "1) What are the Advantages and Disadvantages of KNN algorithm?<br>\n",
    "2) What is the complexity of the KNN algorithm during Training and Testing?<br> \n",
    "3) Is euclidian distance the only distance metric used in KNN? \n",
    "4) what K value gave the best accuracy?"
   ]
  },
  {
   "cell_type": "markdown",
   "id": "3a79721d",
   "metadata": {},
   "source": [
    "<b> Q1. What are the Advantages and Disadvantages of KNN algorithm ? </b><br>\n",
    "<b> Advantages <br> </b>\n",
    "- It doesn't learn anything in the training period, doesn't derive any discriminative function from the training data. <br>\n",
    "- New data can be added without any worry since training is not required. \n",
    "- It's easy to implement. \n",
    "- It only requires the parameter K and the need of the distance function which can be either Euclidean or Manhattan or Minkowski distance. <br><br>\n",
    "<b> Disadvantages </b> <br>\n",
    "- Since KNN invlves the use of calculating distances between each existing point and the new point, it doesn't work well with large datasets. Therefore, affecting the performance of the algorithm. \n",
    "- It's also very sensitive towards noise in the dataset. We are supposed to manually search for the missing values and/or remove outliers. \n",
    "- KNN can generate wrong predictions, that's why we need to do feature scaling before applying the algorithm. "
   ]
  },
  {
   "cell_type": "markdown",
   "id": "9c9f80f6",
   "metadata": {},
   "source": [
    "<b> Q2. What is the complexity of the KNN algorithm during Training and Testing? </b> <br>\n",
    "For training, the complexity is constant, i.e., $O(1)$. <br>\n",
    "For testing, the complexity depends on the number of test samples, i.e., $O(n)$. "
   ]
  },
  {
   "cell_type": "markdown",
   "id": "c62b6a99",
   "metadata": {},
   "source": [
    "<b> Q3. Is Euclidean distance the only distance metric used in KNN? </b><br>\n",
    "No, there are other distance metrices that can be used other than Euclidean diistance depending on the need, such as, Manhattan distance or the Minkowski distance or the cosine distance."
   ]
  },
  {
   "cell_type": "markdown",
   "id": "5d06c257",
   "metadata": {},
   "source": [
    "<b> Q4. What K value gave the best accuracy? </b> <br>\n",
    "K = 1 gave 100% accuracy. "
   ]
  }
 ],
 "metadata": {
  "kernelspec": {
   "display_name": "Python 3.10.4 64-bit",
   "language": "python",
   "name": "python3"
  },
  "language_info": {
   "codemirror_mode": {
    "name": "ipython",
    "version": 3
   },
   "file_extension": ".py",
   "mimetype": "text/x-python",
   "name": "python",
   "nbconvert_exporter": "python",
   "pygments_lexer": "ipython3",
   "version": "3.10.4"
  },
  "vscode": {
   "interpreter": {
    "hash": "a4a32208fe57bd9bd2e8cf471b55207ccd1db41e4a4526642b234c85a6d3d80c"
   }
  }
 },
 "nbformat": 4,
 "nbformat_minor": 5
}
