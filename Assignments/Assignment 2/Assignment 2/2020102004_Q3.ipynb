{
 "cells": [
  {
   "cell_type": "markdown",
   "id": "389ddf1d",
   "metadata": {},
   "source": [
    "# Assignment 2 - Question 3\n",
    "The objective of this assignment is to get you familiarize with  the  problem  of  `Logistic Regression`.\n",
    "\n",
    "\n",
    "## Instructions\n",
    "- Do not Use Direct Inbuilt functions for the Task.\n",
    "- Numpy or other math libraries are allowed.\n",
    "- Ensure that this notebook runs without errors when the cells are run in sequence.\n",
    "- Do not change the contents of the Given cells. Use new cells to Write your code.\n",
    "\n",
    "\n",
    "## Submission\n",
    "- Ensure that this notebook runs without errors when the cells are run in sequence.\n",
    "- Rename the notebook to `<roll_number>_Q3.ipynb`\n",
    "- Fill the Name and Roll number in the below markdown"
   ]
  },
  {
   "cell_type": "markdown",
   "id": "6f6269f1",
   "metadata": {},
   "source": [
    "Name: Anjali Singh <br>\n",
    "Roll Number: 2020102004"
   ]
  },
  {
   "cell_type": "markdown",
   "id": "850dba90",
   "metadata": {},
   "source": [
    "### Dataset\n",
    "\n",
    "Use the code below to load the Dataset\n"
   ]
  },
  {
   "cell_type": "code",
   "execution_count": 2,
   "id": "225cdbe5",
   "metadata": {},
   "outputs": [],
   "source": [
    "import numpy as np\n",
    "import matplotlib.pyplot as plt"
   ]
  },
  {
   "cell_type": "code",
   "execution_count": 4,
   "id": "73ed0112",
   "metadata": {},
   "outputs": [],
   "source": [
    "from sklearn.datasets import make_blobs\n",
    "X, y =  make_blobs(n_samples=100, centers=[[2,4],[4,2]], random_state=20)"
   ]
  },
  {
   "cell_type": "code",
   "execution_count": 5,
   "id": "b2ec2927",
   "metadata": {},
   "outputs": [
    {
     "data": {
      "text/plain": [
       "[<matplotlib.lines.Line2D at 0x14aee1abe20>]"
      ]
     },
     "execution_count": 5,
     "metadata": {},
     "output_type": "execute_result"
    },
    {
     "data": {
      "image/png": "[encoded data removed]",
      "text/plain": [
       "<Figure size 432x288 with 1 Axes>"
      ]
     },
     "metadata": {
      "needs_background": "light"
     },
     "output_type": "display_data"
    }
   ],
   "source": [
    "#Visualize dataset \n",
    "plt.plot(X[:,0][y==0],X[:,1][y==0],'o',color='red')\n",
    "plt.plot(X[:,0][y==1],X[:,1][y==1],'^',color='blue')\n"
   ]
  },
  {
   "cell_type": "markdown",
   "id": "43326e6b",
   "metadata": {},
   "source": [
    "Write your code below for logistic regression with Gradient Descent and plot the decision boundary.<br>\n",
    "Sample output is given in the file `LogisticRegression_sample_result.png`"
   ]
  },
  {
   "cell_type": "code",
   "execution_count": 6,
   "id": "a193966a",
   "metadata": {},
   "outputs": [],
   "source": [
    "# function to normalize feature matrix, X\n",
    "\n",
    "# logistic function: sigmoid function\n",
    "# f(x) = 1/(1+e^(-x))\n",
    "\n",
    "def sigmoid(x):\n",
    "    f = 1.0/(1+np.exp(-x))\n",
    "\n",
    "    return f\n",
    "\n",
    "def log_gradient(X, y, beta):\n",
    "    m = len(y)\n",
    "    z = np.dot(X, beta.T)\n",
    "    A = sigmoid(z)\n",
    "    final_calc = (1/m)*np.dot(X, A-y)\n",
    "\n",
    "    return final_calc\n",
    "    "
   ]
  },
  {
   "cell_type": "code",
   "execution_count": 7,
   "id": "8ad1f092",
   "metadata": {},
   "outputs": [],
   "source": [
    "# J for logistic regression is inversely proportional to the likelihood of parameters\n",
    "\n",
    "def costFunc(beta, X, y):\n",
    "    # J = cost function or loss function \n",
    "    z = np.dot(X, beta.T)\n",
    "    logisticFunc_v = sigmoid(z)\n",
    "    y = np.squeeze(y)\n",
    "\n",
    "    step1 = y*(np.log(logisticFunc_v))\n",
    "    step2 = (1-y)*(np.log(1 - logisticFunc_v))\n",
    "\n",
    "    final = - step1 - step2\n",
    "    final_mean = np.mean(final)\n",
    "\n",
    "    return final_mean\n",
    "\n",
    "def gradientFunc(X, y, beta, lr = 0.01, convergeChange = 0.001):\n",
    "    cost = costFunc(beta, X, y)\n",
    "    change_cost = 1\n",
    "    num_iterations = 1\n",
    "\n",
    "    while(change_cost > convergeChange):\n",
    "        old_cost = cost \n",
    "        beta = beta - (lr*log_gradient(X, y, beta).T)\n",
    "\n",
    "        cost = costFunc(beta, X, y)\n",
    "\n",
    "        change_cost = old_cost - cost\n",
    "        num_iterations += 1\n",
    "    \n",
    "    return beta, num_iterations\n",
    "    "
   ]
  },
  {
   "cell_type": "code",
   "execution_count": 8,
   "id": "e1b5bd0c",
   "metadata": {},
   "outputs": [],
   "source": [
    "# function to predict values\n",
    "def predictValues(beta, X):\n",
    "    z = np.dot(X.any(), beta)\n",
    "    pred_prob = sigmoid(z)\n",
    "    # pred_prob = logisticFunc(beta, X.any())\n",
    "\n",
    "    if (pred_prob.all() >= 0.5):\n",
    "        pred_value = 1\n",
    "    else:\n",
    "        pred_value = 0\n",
    "    \n",
    "    # np.squeeze is used where we want the 2D array from a 3D array\n",
    "    return np.squeeze(pred_value)\n",
    "\n",
    "# function to plot the decision boundary\n",
    "\n",
    "def plot_reg(X, y, beta):\n",
    "    x_0 = X[np.where(y == 0.0)]\n",
    "    x_1 = X[np.where(y == 1.0)]\n",
    "\n",
    "    x1 = np.arange(0, 1, 0.1)\n",
    "    x2 = -(beta[0, 0] + beta[0, 1]*x1)/beta[0, 2]\n",
    "\n",
    "    plt.plot(X[:,0][y==0], X[:,1][y==0], 'o', color = 'red')\n",
    "    plt.plot(X[:,0][y==1], X[:,1][y==1], '^', color = 'blue')\n",
    "\n",
    "    plt.plot(x1, x2, c = 'k', label = 'Regression Line')\n",
    "\n",
    "    plt.xlabel('x1')\n",
    "    plt.ylabel('x2')\n",
    "    plt.legend()\n",
    "    plt.show()"
   ]
  },
  {
   "cell_type": "code",
   "execution_count": 9,
   "id": "20ad2942",
   "metadata": {},
   "outputs": [
    {
     "ename": "ValueError",
     "evalue": "shapes (100,3) and (1,3) not aligned: 3 (dim 1) != 1 (dim 0)",
     "output_type": "error",
     "traceback": [
      "\u001b[1;31m---------------------------------------------------------------------------\u001b[0m",
      "\u001b[1;31mValueError\u001b[0m                                Traceback (most recent call last)",
      "\u001b[1;32mc:\\Users\\Anjali\\OneDrive - International Institute of Information Technology\\Documents\\College Stuffs\\Third Year\\SMAI\\statistical-methods-in-AI-monsoon-2022\\Assignments\\Assignment 2\\Assignment 2\\2020102004_Q3.ipynb Cell 11\u001b[0m in \u001b[0;36m<cell line: 1>\u001b[1;34m()\u001b[0m\n\u001b[0;32m     <a href='vscode-notebook-cell:/c%3A/Users/Anjali/OneDrive%20-%20International%20Institute%20of%20Information%20Technology/Documents/College%20Stuffs/Third%20Year/SMAI/statistical-methods-in-AI-monsoon-2022/Assignments/Assignment%202/Assignment%202/2020102004_Q3.ipynb#X13sZmlsZQ%3D%3D?line=9'>10</a>\u001b[0m beta \u001b[39m=\u001b[39m np\u001b[39m.\u001b[39mzeros((X\u001b[39m.\u001b[39mshape[\u001b[39m1\u001b[39m], \u001b[39m1\u001b[39m))\n\u001b[0;32m     <a href='vscode-notebook-cell:/c%3A/Users/Anjali/OneDrive%20-%20International%20Institute%20of%20Information%20Technology/Documents/College%20Stuffs/Third%20Year/SMAI/statistical-methods-in-AI-monsoon-2022/Assignments/Assignment%202/Assignment%202/2020102004_Q3.ipynb#X13sZmlsZQ%3D%3D?line=10'>11</a>\u001b[0m \u001b[39m# beta = np.matrix(np.zeros(X.shape[1]))\u001b[39;00m\n\u001b[0;32m     <a href='vscode-notebook-cell:/c%3A/Users/Anjali/OneDrive%20-%20International%20Institute%20of%20Information%20Technology/Documents/College%20Stuffs/Third%20Year/SMAI/statistical-methods-in-AI-monsoon-2022/Assignments/Assignment%202/Assignment%202/2020102004_Q3.ipynb#X13sZmlsZQ%3D%3D?line=11'>12</a>\u001b[0m \n\u001b[0;32m     <a href='vscode-notebook-cell:/c%3A/Users/Anjali/OneDrive%20-%20International%20Institute%20of%20Information%20Technology/Documents/College%20Stuffs/Third%20Year/SMAI/statistical-methods-in-AI-monsoon-2022/Assignments/Assignment%202/Assignment%202/2020102004_Q3.ipynb#X13sZmlsZQ%3D%3D?line=12'>13</a>\u001b[0m \u001b[39m# beta values after running gradient descent\u001b[39;00m\n\u001b[1;32m---> <a href='vscode-notebook-cell:/c%3A/Users/Anjali/OneDrive%20-%20International%20Institute%20of%20Information%20Technology/Documents/College%20Stuffs/Third%20Year/SMAI/statistical-methods-in-AI-monsoon-2022/Assignments/Assignment%202/Assignment%202/2020102004_Q3.ipynb#X13sZmlsZQ%3D%3D?line=13'>14</a>\u001b[0m beta, num_iter \u001b[39m=\u001b[39m gradientFunc(X, y, beta)\n\u001b[0;32m     <a href='vscode-notebook-cell:/c%3A/Users/Anjali/OneDrive%20-%20International%20Institute%20of%20Information%20Technology/Documents/College%20Stuffs/Third%20Year/SMAI/statistical-methods-in-AI-monsoon-2022/Assignments/Assignment%202/Assignment%202/2020102004_Q3.ipynb#X13sZmlsZQ%3D%3D?line=15'>16</a>\u001b[0m \u001b[39m# estimated beta values and number of iterations\u001b[39;00m\n\u001b[0;32m     <a href='vscode-notebook-cell:/c%3A/Users/Anjali/OneDrive%20-%20International%20Institute%20of%20Information%20Technology/Documents/College%20Stuffs/Third%20Year/SMAI/statistical-methods-in-AI-monsoon-2022/Assignments/Assignment%202/Assignment%202/2020102004_Q3.ipynb#X13sZmlsZQ%3D%3D?line=16'>17</a>\u001b[0m \u001b[39mprint\u001b[39m(\u001b[39m\"\u001b[39m\u001b[39mEstimated regression coefficients:\u001b[39m\u001b[39m\"\u001b[39m, beta)\n",
      "\u001b[1;32mc:\\Users\\Anjali\\OneDrive - International Institute of Information Technology\\Documents\\College Stuffs\\Third Year\\SMAI\\statistical-methods-in-AI-monsoon-2022\\Assignments\\Assignment 2\\Assignment 2\\2020102004_Q3.ipynb Cell 11\u001b[0m in \u001b[0;36mgradientFunc\u001b[1;34m(X, y, beta, lr, convergeChange)\u001b[0m\n\u001b[0;32m     <a href='vscode-notebook-cell:/c%3A/Users/Anjali/OneDrive%20-%20International%20Institute%20of%20Information%20Technology/Documents/College%20Stuffs/Third%20Year/SMAI/statistical-methods-in-AI-monsoon-2022/Assignments/Assignment%202/Assignment%202/2020102004_Q3.ipynb#X13sZmlsZQ%3D%3D?line=16'>17</a>\u001b[0m \u001b[39mdef\u001b[39;00m \u001b[39mgradientFunc\u001b[39m(X, y, beta, lr \u001b[39m=\u001b[39m \u001b[39m0.01\u001b[39m, convergeChange \u001b[39m=\u001b[39m \u001b[39m0.001\u001b[39m):\n\u001b[1;32m---> <a href='vscode-notebook-cell:/c%3A/Users/Anjali/OneDrive%20-%20International%20Institute%20of%20Information%20Technology/Documents/College%20Stuffs/Third%20Year/SMAI/statistical-methods-in-AI-monsoon-2022/Assignments/Assignment%202/Assignment%202/2020102004_Q3.ipynb#X13sZmlsZQ%3D%3D?line=17'>18</a>\u001b[0m     cost \u001b[39m=\u001b[39m costFunc(beta, X, y)\n\u001b[0;32m     <a href='vscode-notebook-cell:/c%3A/Users/Anjali/OneDrive%20-%20International%20Institute%20of%20Information%20Technology/Documents/College%20Stuffs/Third%20Year/SMAI/statistical-methods-in-AI-monsoon-2022/Assignments/Assignment%202/Assignment%202/2020102004_Q3.ipynb#X13sZmlsZQ%3D%3D?line=18'>19</a>\u001b[0m     change_cost \u001b[39m=\u001b[39m \u001b[39m1\u001b[39m\n\u001b[0;32m     <a href='vscode-notebook-cell:/c%3A/Users/Anjali/OneDrive%20-%20International%20Institute%20of%20Information%20Technology/Documents/College%20Stuffs/Third%20Year/SMAI/statistical-methods-in-AI-monsoon-2022/Assignments/Assignment%202/Assignment%202/2020102004_Q3.ipynb#X13sZmlsZQ%3D%3D?line=19'>20</a>\u001b[0m     num_iterations \u001b[39m=\u001b[39m \u001b[39m1\u001b[39m\n",
      "\u001b[1;32mc:\\Users\\Anjali\\OneDrive - International Institute of Information Technology\\Documents\\College Stuffs\\Third Year\\SMAI\\statistical-methods-in-AI-monsoon-2022\\Assignments\\Assignment 2\\Assignment 2\\2020102004_Q3.ipynb Cell 11\u001b[0m in \u001b[0;36mcostFunc\u001b[1;34m(beta, X, y)\u001b[0m\n\u001b[0;32m      <a href='vscode-notebook-cell:/c%3A/Users/Anjali/OneDrive%20-%20International%20Institute%20of%20Information%20Technology/Documents/College%20Stuffs/Third%20Year/SMAI/statistical-methods-in-AI-monsoon-2022/Assignments/Assignment%202/Assignment%202/2020102004_Q3.ipynb#X13sZmlsZQ%3D%3D?line=2'>3</a>\u001b[0m \u001b[39mdef\u001b[39;00m \u001b[39mcostFunc\u001b[39m(beta, X, y):\n\u001b[0;32m      <a href='vscode-notebook-cell:/c%3A/Users/Anjali/OneDrive%20-%20International%20Institute%20of%20Information%20Technology/Documents/College%20Stuffs/Third%20Year/SMAI/statistical-methods-in-AI-monsoon-2022/Assignments/Assignment%202/Assignment%202/2020102004_Q3.ipynb#X13sZmlsZQ%3D%3D?line=3'>4</a>\u001b[0m     \u001b[39m# J = cost function or loss function \u001b[39;00m\n\u001b[1;32m----> <a href='vscode-notebook-cell:/c%3A/Users/Anjali/OneDrive%20-%20International%20Institute%20of%20Information%20Technology/Documents/College%20Stuffs/Third%20Year/SMAI/statistical-methods-in-AI-monsoon-2022/Assignments/Assignment%202/Assignment%202/2020102004_Q3.ipynb#X13sZmlsZQ%3D%3D?line=4'>5</a>\u001b[0m     z \u001b[39m=\u001b[39m np\u001b[39m.\u001b[39;49mdot(X, beta\u001b[39m.\u001b[39;49mT)\n\u001b[0;32m      <a href='vscode-notebook-cell:/c%3A/Users/Anjali/OneDrive%20-%20International%20Institute%20of%20Information%20Technology/Documents/College%20Stuffs/Third%20Year/SMAI/statistical-methods-in-AI-monsoon-2022/Assignments/Assignment%202/Assignment%202/2020102004_Q3.ipynb#X13sZmlsZQ%3D%3D?line=5'>6</a>\u001b[0m     logisticFunc_v \u001b[39m=\u001b[39m sigmoid(z)\n\u001b[0;32m      <a href='vscode-notebook-cell:/c%3A/Users/Anjali/OneDrive%20-%20International%20Institute%20of%20Information%20Technology/Documents/College%20Stuffs/Third%20Year/SMAI/statistical-methods-in-AI-monsoon-2022/Assignments/Assignment%202/Assignment%202/2020102004_Q3.ipynb#X13sZmlsZQ%3D%3D?line=6'>7</a>\u001b[0m     y \u001b[39m=\u001b[39m np\u001b[39m.\u001b[39msqueeze(y)\n",
      "File \u001b[1;32m<__array_function__ internals>:180\u001b[0m, in \u001b[0;36mdot\u001b[1;34m(*args, **kwargs)\u001b[0m\n",
      "\u001b[1;31mValueError\u001b[0m: shapes (100,3) and (1,3) not aligned: 3 (dim 1) != 1 (dim 0)"
     ]
    }
   ],
   "source": [
    "if __name__ == \"__main__\":\n",
    "\n",
    "    # .T: takes the transpose \n",
    "    # X = normalize(X)\n",
    "    X = np.hstack((np.matrix(np.ones(X.shape[0])).T, X))\n",
    "\n",
    "    y = X[:, -1]\n",
    " \n",
    "    # initial beta values\n",
    "    beta = np.zeros((X.shape[1], 1))\n",
    "    # beta = np.matrix(np.zeros(X.shape[1]))\n",
    " \n",
    "    # beta values after running gradient descent\n",
    "    beta, num_iter = gradientFunc(X, y, beta)\n",
    " \n",
    "    # estimated beta values and number of iterations\n",
    "    print(\"Estimated regression coefficients:\", beta)\n",
    "    print(\"No. of iterations:\", num_iter)\n",
    " \n",
    "    # predicted labels\n",
    "    y_pred = predictValues(beta, X)\n",
    "     \n",
    "    # number of correctly predicted labels\n",
    "    print(\"Correctly predicted labels:\", np.sum(y == y_pred))\n",
    "     \n",
    "    # plotting regression line\n",
    "    plot_reg(X, y, beta)"
   ]
  },
  {
   "cell_type": "markdown",
   "id": "c1f2b4c5",
   "metadata": {},
   "source": [
    "### Questions\n",
    "\n",
    "1) Explain the approach of Logistic Regression.<br>\n",
    "2) What is the loss function used?<br>\n",
    "3) Explain if we can use Mean Square Error(MSE) as Loss function."
   ]
  },
  {
   "cell_type": "markdown",
   "id": "343f2cef",
   "metadata": {},
   "source": [
    "<b> Q1. Explain the approach of Logistic Regression. </b> <br>\n"
   ]
  },
  {
   "cell_type": "markdown",
   "id": "f679a4a4",
   "metadata": {},
   "source": [
    "<b> Q2. What is the loss function used? </b> <br>\n",
    "\n",
    "The loss function used for logistic regression is as follows: - <br>\n",
    "\n",
    "$$ \n",
    "cost(h_{\\theta}(x), y) = {\\begin{cases} -log(h_{\\theta}(x)) \\space\\space\\space\\space if \\space\\space y = 1 \\\\ -log(1-h_{\\theta}(x)) \\space\\space\\space\\space if \\space\\space y = 0 \\end{cases}}  \n",
    "$$\n",
    "\n",
    "This gives us a non-convex loss function. "
   ]
  },
  {
   "cell_type": "markdown",
   "id": "bdfa41a7",
   "metadata": {},
   "source": [
    "<b> Q3. Explain if we can use Mean Square Error (MSE) as loss function. </b> <br>\n",
    "\n",
    "No, we cannot use the MSE as loss function. This is because, we use the sigmoid function in logistic regression and we do non-linear transformations to obtain the probabiities. Using MSE, we'll need to square the non-linear transformations which leads to non-convexity with local minimums. And thereby, it becomes almost next to impossible to find the global minimum using gradient descent. "
   ]
  }
 ],
 "metadata": {
  "kernelspec": {
   "display_name": "Python 3.10.4 64-bit",
   "language": "python",
   "name": "python3"
  },
  "language_info": {
   "codemirror_mode": {
    "name": "ipython",
    "version": 3
   },
   "file_extension": ".py",
   "mimetype": "text/x-python",
   "name": "python",
   "nbconvert_exporter": "python",
   "pygments_lexer": "ipython3",
   "version": "3.10.4"
  },
  "vscode": {
   "interpreter": {
    "hash": "a4a32208fe57bd9bd2e8cf471b55207ccd1db41e4a4526642b234c85a6d3d80c"
   }
  }
 },
 "nbformat": 4,
 "nbformat_minor": 5
}
